{
 "cells": [
  {
   "cell_type": "markdown",
   "metadata": {},
   "source": [
    "## Inspection\n",
    "\n",
    "The following code starts off by inspecting the new dataset. We note two limitations with the current dataset:\n",
    "\n",
    "1. Each file only contains one tremor event, so it is extremely unbalanced if we just slide a window over the data.\n",
    "\n",
    "2. The amount of data is extremely small"
   ]
  },
  {
   "cell_type": "code",
   "execution_count": null,
   "metadata": {},
   "outputs": [
    {
     "name": "stdout",
     "output_type": "stream",
     "text": [
      "Extracting EDF parameters from /Users/supremegg/Documents/GitHub/parkinsons-tremor-detection/new_data/sub-pd3/ses-off/eeg/sub-pd3_ses-off_task-rest_eeg.bdf...\n",
      "BDF file detected\n",
      "Setting channel info structure...\n",
      "Creating raw.info structure...\n",
      "Reading 0 ... 102399  =      0.000 ...   199.998 secs...\n",
      "[]\n",
      "2 events found on stim channel Status\n",
      "Event IDs: [    1 65536]\n",
      "[[    0     0 65536]\n",
      " [ 5571     0     1]]\n",
      "Using pyopengl with version 3.1.6\n"
     ]
    },
    {
     "data": {
      "text/plain": [
       "<mne_qt_browser._pg_figure.MNEQtBrowser at 0x28a9367b0>"
      ]
     },
     "execution_count": 3,
     "metadata": {},
     "output_type": "execute_result"
    },
    {
     "name": "stdout",
     "output_type": "stream",
     "text": [
      "Channels marked as bad:\n",
      "none\n"
     ]
    }
   ],
   "source": [
    "import mne\n",
    "raw_data = mne.io.read_raw_bdf(f\"../new_data/sub-pd3/ses-off/eeg/sub-pd3_ses-off_task-rest_eeg.bdf\", preload=True)\n",
    "\n",
    "events, event_id = mne.events_from_annotations(raw_data)\n",
    "\n",
    "events = mne.find_events(raw_data, stim_channel=\"Status\", initial_event=True)\n",
    "print(events)\n",
    "\n",
    "fig = mne.viz.plot_events(events, sfreq=raw_data.info[\"sfreq\"], first_samp=raw_data.first_samp, event_id=event_id)\n",
    "\n",
    "raw_data.plot(events=events, n_channels=64, duration=5)"
   ]
  },
  {
   "cell_type": "markdown",
   "metadata": {},
   "source": [
    "## Plan for Execution\n",
    "\n",
    "### Preprocessing\n",
    "\n",
    "1. Load these data, apply some filtering and ICA\n",
    "2. Find the events and epoch them\n",
    "3. Slide a window over the data to produce data segments\n",
    "4. Generate labels 0, 1, 2\n",
    "    - 0: No tremor\n",
    "    - 1: Pre-tremor (2 seconds before)\n",
    "    - 2: Tremor (5 seconds)\n",
    "5. Crop out the sample after 5 seconds after the tremor ends\n",
    "6. Apply normalization across channels for each segment\n",
    "7. Save these data segments and their corresponding label\n",
    "\n",
    "### Model training\n",
    "\n",
    "1. Each data sample is one epoch / window with its corresponding label\n",
    "2. Train a batch of these samples with CNN-LSTM with BCE loss\n",
    "3. Apply k-fold cross-validation since the data is limited\n",
    "\n",
    "### Inference\n",
    "\n",
    "1. Take the continuous EEG data and slide a window over it to produce these epochs / windows\n",
    "2. The model will be able to take in a window and output a prediction (0/1)\n",
    "3. Keep sliding the window (increments of 1 second or more)"
   ]
  },
  {
   "cell_type": "code",
   "execution_count": 16,
   "metadata": {},
   "outputs": [],
   "source": [
    "import torch\n",
    "import numpy as np\n",
    "import mne\n",
    "from sklearn.preprocessing import StandardScaler"
   ]
  },
  {
   "cell_type": "code",
   "execution_count": null,
   "metadata": {},
   "outputs": [],
   "source": [
    "def load_and_preprocess_bdf(file_paths, \n",
    "                            event_id,\n",
    "                            window_size=3.0, \n",
    "                            window_step=0.5, \n",
    "                            pre_tremor_window=2.0, \n",
    "                            save_path=None):\n",
    "    \"\"\"\n",
    "    Load and preprocess BDF files with sliding windows and multi-class labeling.\n",
    "    \n",
    "    Args:\n",
    "        file_paths: List of BDF file paths\n",
    "        window_size: Window size in seconds (3-4s recommended for 5s tremor events)\n",
    "        window_step: Step size for sliding window in seconds (smaller = more overlap)\n",
    "        pre_tremor_window: Time before tremor onset to label as pre-tremor (seconds)\n",
    "        save_path: Optional path to save processed data\n",
    "    \n",
    "    Returns:\n",
    "        Tuple of (windows, labels) as PyTorch tensors\n",
    "    \"\"\"\n",
    "    all_windows = []\n",
    "    all_labels = []\n",
    "\n",
    "    for file_path in file_paths:\n",
    "        # 1. Load data and apply basic preprocessing\n",
    "        raw = mne.io.read_raw_bdf(file_path, preload=True)\n",
    "        raw.filter(0.5, 50, fir_design='firwin')\n",
    "        # ica = mne.preprocessing.ICA(n_components=15, random_state=42)\n",
    "        # ica.fit(raw)\n",
    "        # eog_indices, eog_scores = ica.find_bads_eog(raw)\n",
    "        # if eog_indices:\n",
    "        #     ica.exclude = eog_indices\n",
    "        # ica.apply(raw)\n",
    "        \n",
    "        # 2. Get sampling frequency and calculate window parameters\n",
    "        sfreq = raw.info['sfreq']\n",
    "        samples_per_window = int(window_size * sfreq)\n",
    "        step_samples = int(window_step * sfreq)\n",
    "        pre_tremor_samples = int(pre_tremor_window * sfreq)\n",
    "        # NOTE: Somehow it cannot find built-in event_id\n",
    "        events = mne.find_events(raw, stim_channel='Status')\n",
    "        \n",
    "        if 'tremor' not in event_id:\n",
    "            print(f\"Warning: 'tremor' event not found in {file_path}. Available events: {event_id}\")\n",
    "            continue\n",
    "        \n",
    "        tremor_events = [evt for evt in events if evt[2] == event_id['tremor']]\n",
    "        if not tremor_events:\n",
    "            print(f\"Warning: No tremor events found in {file_path}\")\n",
    "            continue\n",
    "        \n",
    "        # NOTE: We are guaranteed each sample only contain ONE tremor event\n",
    "        onset = tremor_events[0][0]\n",
    "        \n",
    "        # NOTE: Assuming each tremor lasts about 5 seconds\n",
    "        tremor_duration_samples = int(5.0 * sfreq)\n",
    "        tremor_end = onset + tremor_duration_samples\n",
    "        # NOTE: Trim seach recording 10 seconds after tremor\n",
    "        buffer_samples = int(10 * sfreq)\n",
    "        analysis_end_sample = tremor_end + buffer_samples\n",
    "        \n",
    "        # 3. Get raw data and create sliding windows\n",
    "        data = raw.get_data()\n",
    "        n_samples = data.shape[1]\n",
    "        analysis_end_sample = min(analysis_end_sample, n_samples)\n",
    "        \n",
    "        for start_sample in range(0, analysis_end_sample - samples_per_window, step_samples):\n",
    "            end_sample = start_sample + samples_per_window\n",
    "            \n",
    "            # Extract window\n",
    "            window = data[:, start_sample:end_sample]\n",
    "            \n",
    "            # 4. Determine the label for this window based on its relation to tremor events\n",
    "            label = 0 # No tremor\n",
    "\n",
    "            # Check if window ends right before tremor onset (pre-tremor)\n",
    "            if onset - pre_tremor_samples <= end_sample <= onset:\n",
    "                label = 1  # Pre-tremor\n",
    "                \n",
    "            # Check if window overlaps with tremor event\n",
    "            elif start_sample <= onset + tremor_duration_samples and end_sample >= onset:\n",
    "                label = 2  # Full tremor\n",
    "            \n",
    "            # 5. Normalize the window\n",
    "            scaler = StandardScaler()\n",
    "            window = scaler.fit_transform(window.T).T\n",
    "            \n",
    "            all_windows.append(window)\n",
    "            all_labels.append(label)\n",
    "\n",
    "    if not all_windows:\n",
    "        raise ValueError(\"No valid data was processed. Check input files and event markers.\")\n",
    "    \n",
    "    all_windows = np.array(all_windows)\n",
    "    all_labels = np.array(all_labels)\n",
    "\n",
    "    all_windows = torch.tensor(all_windows, dtype=torch.float32)\n",
    "    all_labels = torch.tensor(all_labels, dtype=torch.long)\n",
    "    \n",
    "    class_counts = np.bincount(all_labels.numpy())\n",
    "    print(f\"Class distribution:\")\n",
    "    print(f\"  Class 0 (No tremor): {class_counts[0] if len(class_counts) > 0 else 0}\")\n",
    "    print(f\"  Class 1 (Pre-tremor): {class_counts[1] if len(class_counts) > 1 else 0}\")\n",
    "    print(f\"  Class 2 (Full tremor): {class_counts[2] if len(class_counts) > 2 else 0}\")\n",
    "    \n",
    "    if save_path:\n",
    "        torch.save({'windows': all_windows, 'labels': all_labels}, save_path)\n",
    "        \n",
    "    print(f\"Processed {len(all_windows)} windows with shape {all_windows.shape}\")\n",
    "    \n",
    "    return all_windows, all_labels"
   ]
  },
  {
   "cell_type": "code",
   "execution_count": 18,
   "metadata": {},
   "outputs": [
    {
     "name": "stdout",
     "output_type": "stream",
     "text": [
      "['../new_data/sub-pd3/ses-off/eeg/sub-pd3_ses-off_task-rest_eeg.bdf', '../new_data/sub-pd5/ses-off/eeg/sub-pd5_ses-off_task-rest_eeg.bdf', '../new_data/sub-pd23/ses-off/eeg/sub-pd23_ses-off_task-rest_eeg.bdf', '../new_data/sub-pd12/ses-off/eeg/sub-pd12_ses-off_task-rest_eeg.bdf', '../new_data/sub-pd13/ses-off/eeg/sub-pd13_ses-off_task-rest_eeg.bdf', '../new_data/sub-pd14/ses-off/eeg/sub-pd14_ses-off_task-rest_eeg.bdf', '../new_data/sub-pd22/ses-off/eeg/sub-pd22_ses-off_task-rest_eeg.bdf', '../new_data/sub-pd9/ses-off/eeg/sub-pd9_ses-off_task-rest_eeg.bdf', '../new_data/sub-pd6/ses-off/eeg/sub-pd6_ses-off_task-rest_eeg.bdf', '../new_data/sub-pd11/ses-off/eeg/sub-pd11_ses-off_task-rest_eeg.bdf', '../new_data/sub-pd16/ses-off/eeg/sub-pd16_ses-off_task-rest_eeg.bdf', '../new_data/sub-pd28/ses-off/eeg/sub-pd28_ses-off_task-rest_eeg.bdf', '../new_data/sub-pd17/ses-off/eeg/sub-pd17_ses-off_task-rest_eeg.bdf', '../new_data/sub-pd19/ses-off/eeg/sub-pd19_ses-off_task-rest_eeg.bdf', '../new_data/sub-pd26/ses-off/eeg/sub-pd26_ses-off_task-rest_eeg.bdf']\n"
     ]
    }
   ],
   "source": [
    "import os\n",
    "import glob\n",
    "\n",
    "window_size = 3.0\n",
    "window_step = 0.5\n",
    "pre_tremor_window = 2.0\n",
    "event_id = {\n",
    "    \"no-tremor\": 65536,\n",
    "    \"tremor\": 1\n",
    "}\n",
    "\n",
    "dirname = \"../new_data\"\n",
    "pattern = os.path.join(dirname, \"sub-pd*/ses-off/eeg/sub-pd*_ses-off_task-rest_eeg.bdf\")\n",
    "file_paths = glob.glob(pattern)\n",
    "print(file_paths)"
   ]
  },
  {
   "cell_type": "code",
   "execution_count": 29,
   "metadata": {},
   "outputs": [
    {
     "name": "stdout",
     "output_type": "stream",
     "text": [
      "5571\n",
      "2086\n",
      "6575\n",
      "3857\n",
      "2291\n",
      "1398\n",
      "2064\n",
      "1493\n",
      "2555\n",
      "1595\n",
      "2067\n",
      "7377\n",
      "1219\n",
      "1103\n",
      "3231\n",
      "Class distribution:\n",
      "  Class 0 (No tremor): 266\n",
      "  Class 1 (Pre-tremor): 37\n",
      "  Class 2 (Full tremor): 238\n",
      "Processed 541 windows with shape torch.Size([541, 41, 1536])\n",
      "Data shape: torch.Size([541, 41, 1536]), Labels shape: torch.Size([541])\n"
     ]
    }
   ],
   "source": [
    "save_path = 'processed_data.pt'\n",
    "mne.set_log_level('WARNING')\n",
    "preprocessed_data, labels = load_and_preprocess_bdf(file_paths, \n",
    "                                                   event_id=event_id,\n",
    "                                                   window_size=window_size, \n",
    "                                                   window_step=window_step,\n",
    "                                                   pre_tremor_window=pre_tremor_window,\n",
    "                                                   save_path=save_path)\n",
    "print(f\"Data shape: {preprocessed_data.shape}, Labels shape: {labels.shape}\")"
   ]
  }
 ],
 "metadata": {
  "kernelspec": {
   "display_name": "mne",
   "language": "python",
   "name": "python3"
  },
  "language_info": {
   "codemirror_mode": {
    "name": "ipython",
    "version": 3
   },
   "file_extension": ".py",
   "mimetype": "text/x-python",
   "name": "python",
   "nbconvert_exporter": "python",
   "pygments_lexer": "ipython3",
   "version": "3.12.7"
  }
 },
 "nbformat": 4,
 "nbformat_minor": 2
}
