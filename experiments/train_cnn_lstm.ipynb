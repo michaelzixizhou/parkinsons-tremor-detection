{
 "cells": [
  {
   "cell_type": "markdown",
   "metadata": {},
   "source": [
    "The following code will train a CNN-LSTM on a segmented EEG Dataset"
   ]
  },
  {
   "cell_type": "code",
   "execution_count": null,
   "metadata": {},
   "outputs": [],
   "source": [
    "from models.cnn_lstm_1d import CNNLSTM\n",
    "from models.loader import TremorDataset, create_data_loaders, create_kfold_loaders, create_stratified_split_loaders"
   ]
  },
  {
   "cell_type": "code",
   "execution_count": null,
   "metadata": {},
   "outputs": [],
   "source": [
    "dataset = TremorDataset(\"processed_data.pt\")"
   ]
  },
  {
   "cell_type": "markdown",
   "metadata": {},
   "source": [
    "Then you have a few training options\n",
    "\n",
    "1. Simple split\n",
    "\n",
    "```python\n",
    "train_loader, val_loader, test_loader = create_data_loaders(dataset, batch_size=16)\n",
    "```\n",
    "\n",
    "2. Stratified split (better for imbalanced data)\n",
    "\n",
    "```python\n",
    "train_loader, val_loader, test_loader = create_stratified_split_loaders(dataset, batch_size=16)\n",
    "```\n",
    "\n",
    "3. K fold cross validation\n",
    "\n",
    "```python\n",
    "fold_loaders = create_kfold_loaders(dataset, n_splits=5, batch_size=16)\n",
    "\n",
    "for fold_idx, (train_loader, val_loader) in enumerate(fold_loaders):\n",
    "    print(f\"Training fold {fold_idx+1}\")\n",
    "    model = CNNLSTM(num_classes=3)\n",
    "    model.train_model(train_loader, val_loader, epochs=50)\n",
    "```"
   ]
  },
  {
   "cell_type": "code",
   "execution_count": null,
   "metadata": {},
   "outputs": [],
   "source": [
    "train_loader, val_loader, test_loader = create_data_loaders(dataset, batch_size=32, val_size=0.1, test_size=0.2)\n",
    "\n",
    "model = CNNLSTM(num_classes=3)\n",
    "\n",
    "model.train_model(train_loader, val_loader)"
   ]
  },
  {
   "cell_type": "code",
   "execution_count": null,
   "metadata": {},
   "outputs": [],
   "source": [
    "all_preds, all_labels = model.test_model(test_loader)\n",
    "model.test_with_metrics(all_preds, all_labels)"
   ]
  }
 ],
 "metadata": {
  "language_info": {
   "name": "python"
  }
 },
 "nbformat": 4,
 "nbformat_minor": 2
}
