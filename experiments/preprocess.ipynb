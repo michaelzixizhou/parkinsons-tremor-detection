{
 "cells": [
  {
   "cell_type": "code",
   "execution_count": null,
   "metadata": {},
   "outputs": [],
   "source": [
    "from eeg_preprocessor import EEGPreprocessor\n",
    "from preprocessors.acc_preprocessor import AccelerometerPreprocessor\n",
    "from preprocessors.eeg_loader import EEGDataLoader"
   ]
  },
  {
   "cell_type": "code",
   "execution_count": null,
   "metadata": {},
   "outputs": [],
   "source": [
    "ACC_DATA_PATH = \"data/accelerometer_data/820_1_accelerometer.pkl\"\n",
    "\n",
    "acc_loader = AccelerometerPreprocessor(ACC_DATA_PATH, 100)\n",
    "timestamps = acc_loader.preprocess_data()\n",
    "# acc_loader.plot_data()\n",
    "acc_loader.visualize_features()"
   ]
  },
  {
   "cell_type": "code",
   "execution_count": null,
   "metadata": {},
   "outputs": [],
   "source": [
    "# Run this cell if you want to preprocess eeg data\n",
    "EEG_DATA_PATH = \"data/eeg_data/820_1_PD_REST-epo.fif\"\n",
    "\n",
    "# SAVED_TIMESTAMP_PATH = \"processed/accelerometer_data/804_1_accelerometer_features.csv\"\n",
    "\n",
    "eeg_loader = EEGPreprocessor(EEG_DATA_PATH)\n",
    "eeg_loader.preprocess()\n",
    "\n",
    "\n",
    "eeg_loader.segment_with_labels(timestamps, save=True)  \n",
    "# eeg_loader.segment_with_labels(SAVED_TIMESTAMP_PATH, save=True)\n",
    "\n",
    "eeg_loader.plot_epochs()"
   ]
  },
  {
   "cell_type": "code",
   "execution_count": null,
   "metadata": {},
   "outputs": [],
   "source": [
    "# Run this cell if you already saved processed eeg data\n",
    "EPOCHS_PATH = \"processed/eeg_data/913_1_PD_REST-epo.fif\"\n",
    "FOLDER_PATH = \"processed/eeg_data\"\n",
    "\n",
    "eeg = EEGDataLoader(dir_path=FOLDER_PATH)\n",
    "# eeg = EEGDataLoader(file_path=EPOCHS_PATH)\n",
    "\n",
    "# eeg.plot_events()\n",
    "# eeg.display_info()\n",
    "# eeg.epochs.plot_image(picks=['eeg'], scalings=dict(eeg=20e-5))"
   ]
  },
  {
   "cell_type": "code",
   "execution_count": 3,
   "metadata": {},
   "outputs": [],
   "source": [
    "%%capture\n",
    "eeg.extract_features()"
   ]
  },
  {
   "cell_type": "code",
   "execution_count": null,
   "metadata": {},
   "outputs": [],
   "source": [
    "import numpy as np\n",
    "from preprocessors.eeg_loader import EEGDataLoader\n",
    "\n",
    "features = np.load(\"eeg_features.npy\")\n",
    "eeg = EEGDataLoader(dir_path=\"processed/eeg_data\")\n",
    "eeg.features = features"
   ]
  },
  {
   "cell_type": "code",
   "execution_count": 2,
   "metadata": {},
   "outputs": [
    {
     "name": "stdout",
     "output_type": "stream",
     "text": [
      "(646, 63, 17) (162, 63, 17) (646,) (162,)\n"
     ]
    }
   ],
   "source": [
    "X_train, X_test, y_train, y_test = eeg.train_test_split()\n",
    "print(X_train.shape, X_test.shape, y_train.shape, y_test.shape)"
   ]
  },
  {
   "cell_type": "code",
   "execution_count": 3,
   "metadata": {},
   "outputs": [
    {
     "name": "stdout",
     "output_type": "stream",
     "text": [
      "Cleaned X_train shape: (644, 63, 17)\n",
      "Cleaned y_train shape: (644,)\n",
      "Cleaned X_test shape: (161, 63, 17)\n",
      "Cleaned y_test shape: (161,)\n"
     ]
    }
   ],
   "source": [
    "# Remove NaN samples from X_train and y_train\n",
    "mask_train = ~np.isnan(X_train).any(axis=(1, 2))\n",
    "X_train_clean = X_train[mask_train]\n",
    "y_train_clean = y_train[mask_train]\n",
    "\n",
    "# Remove NaN samples from X_test and y_test\n",
    "mask_test = ~np.isnan(X_test).any(axis=(1, 2))\n",
    "X_test_clean = X_test[mask_test]\n",
    "y_test_clean = y_test[mask_test]\n",
    "\n",
    "print(f\"Cleaned X_train shape: {X_train_clean.shape}\")\n",
    "print(f\"Cleaned y_train shape: {y_train_clean.shape}\")\n",
    "print(f\"Cleaned X_test shape: {X_test_clean.shape}\")\n",
    "print(f\"Cleaned y_test shape: {y_test_clean.shape}\")"
   ]
  },
  {
   "cell_type": "code",
   "execution_count": 4,
   "metadata": {},
   "outputs": [
    {
     "name": "stdout",
     "output_type": "stream",
     "text": [
      "[0]\ttest-merror:0.67284\ttest-mlogloss:1.10222\n",
      "[1]\ttest-merror:0.64815\ttest-mlogloss:1.10075\n",
      "[2]\ttest-merror:0.64198\ttest-mlogloss:1.09802\n",
      "[3]\ttest-merror:0.66667\ttest-mlogloss:1.10094\n",
      "[4]\ttest-merror:0.70370\ttest-mlogloss:1.10574\n",
      "[5]\ttest-merror:0.70988\ttest-mlogloss:1.10586\n",
      "[6]\ttest-merror:0.69136\ttest-mlogloss:1.10906\n",
      "[7]\ttest-merror:0.69753\ttest-mlogloss:1.10699\n",
      "[8]\ttest-merror:0.70370\ttest-mlogloss:1.11149\n",
      "[9]\ttest-merror:0.67901\ttest-mlogloss:1.11260\n",
      "[10]\ttest-merror:0.69753\ttest-mlogloss:1.11342\n",
      "[11]\ttest-merror:0.70370\ttest-mlogloss:1.11342\n",
      "[12]\ttest-merror:0.69136\ttest-mlogloss:1.11197\n",
      "[13]\ttest-merror:0.68519\ttest-mlogloss:1.11247\n",
      "[14]\ttest-merror:0.65432\ttest-mlogloss:1.11203\n",
      "[15]\ttest-merror:0.64198\ttest-mlogloss:1.11096\n",
      "[16]\ttest-merror:0.63580\ttest-mlogloss:1.11174\n",
      "[17]\ttest-merror:0.64815\ttest-mlogloss:1.11326\n",
      "[18]\ttest-merror:0.66049\ttest-mlogloss:1.11549\n",
      "[19]\ttest-merror:0.65432\ttest-mlogloss:1.11470\n",
      "[20]\ttest-merror:0.66049\ttest-mlogloss:1.11600\n",
      "[21]\ttest-merror:0.65432\ttest-mlogloss:1.11720\n",
      "[22]\ttest-merror:0.65432\ttest-mlogloss:1.11763\n",
      "[23]\ttest-merror:0.65432\ttest-mlogloss:1.11940\n",
      "[24]\ttest-merror:0.65432\ttest-mlogloss:1.11923\n",
      "[25]\ttest-merror:0.64198\ttest-mlogloss:1.12093\n",
      "[26]\ttest-merror:0.64815\ttest-mlogloss:1.12226\n",
      "[27]\ttest-merror:0.63580\ttest-mlogloss:1.12488\n",
      "[28]\ttest-merror:0.64198\ttest-mlogloss:1.12510\n",
      "[29]\ttest-merror:0.63580\ttest-mlogloss:1.12500\n",
      "[30]\ttest-merror:0.63580\ttest-mlogloss:1.12392\n",
      "[31]\ttest-merror:0.62963\ttest-mlogloss:1.12578\n",
      "[32]\ttest-merror:0.64198\ttest-mlogloss:1.13045\n",
      "[33]\ttest-merror:0.64198\ttest-mlogloss:1.13231\n",
      "[34]\ttest-merror:0.66049\ttest-mlogloss:1.13241\n",
      "[35]\ttest-merror:0.65432\ttest-mlogloss:1.13390\n",
      "[36]\ttest-merror:0.66049\ttest-mlogloss:1.13537\n",
      "[37]\ttest-merror:0.64815\ttest-mlogloss:1.13672\n",
      "[38]\ttest-merror:0.65432\ttest-mlogloss:1.14186\n",
      "[39]\ttest-merror:0.65432\ttest-mlogloss:1.14397\n",
      "[40]\ttest-merror:0.66667\ttest-mlogloss:1.14805\n",
      "[41]\ttest-merror:0.66049\ttest-mlogloss:1.14872\n",
      "[42]\ttest-merror:0.66049\ttest-mlogloss:1.14832\n",
      "[43]\ttest-merror:0.66049\ttest-mlogloss:1.14957\n",
      "[44]\ttest-merror:0.65432\ttest-mlogloss:1.15241\n",
      "[45]\ttest-merror:0.66049\ttest-mlogloss:1.15445\n",
      "[46]\ttest-merror:0.66667\ttest-mlogloss:1.15692\n",
      "[47]\ttest-merror:0.67284\ttest-mlogloss:1.15898\n",
      "[48]\ttest-merror:0.67284\ttest-mlogloss:1.16053\n",
      "[49]\ttest-merror:0.66667\ttest-mlogloss:1.16134\n",
      "[50]\ttest-merror:0.67284\ttest-mlogloss:1.16316\n",
      "[51]\ttest-merror:0.67284\ttest-mlogloss:1.16567\n",
      "[52]\ttest-merror:0.67284\ttest-mlogloss:1.16925\n",
      "[53]\ttest-merror:0.66049\ttest-mlogloss:1.17052\n",
      "[54]\ttest-merror:0.66049\ttest-mlogloss:1.17108\n",
      "[55]\ttest-merror:0.67284\ttest-mlogloss:1.17200\n",
      "[56]\ttest-merror:0.65432\ttest-mlogloss:1.17374\n",
      "[57]\ttest-merror:0.67901\ttest-mlogloss:1.17587\n",
      "[58]\ttest-merror:0.69136\ttest-mlogloss:1.17700\n",
      "[59]\ttest-merror:0.66667\ttest-mlogloss:1.17893\n",
      "[60]\ttest-merror:0.67901\ttest-mlogloss:1.18107\n",
      "[61]\ttest-merror:0.67901\ttest-mlogloss:1.18115\n",
      "[62]\ttest-merror:0.69136\ttest-mlogloss:1.18224\n",
      "[63]\ttest-merror:0.68519\ttest-mlogloss:1.18547\n",
      "[64]\ttest-merror:0.68519\ttest-mlogloss:1.18580\n",
      "[65]\ttest-merror:0.68519\ttest-mlogloss:1.18828\n",
      "[66]\ttest-merror:0.68519\ttest-mlogloss:1.18964\n",
      "[67]\ttest-merror:0.68519\ttest-mlogloss:1.19109\n",
      "[68]\ttest-merror:0.67284\ttest-mlogloss:1.19356\n",
      "[69]\ttest-merror:0.68519\ttest-mlogloss:1.19396\n",
      "[70]\ttest-merror:0.68519\ttest-mlogloss:1.19491\n",
      "[71]\ttest-merror:0.67901\ttest-mlogloss:1.19716\n",
      "[72]\ttest-merror:0.68519\ttest-mlogloss:1.20054\n",
      "[73]\ttest-merror:0.68519\ttest-mlogloss:1.20198\n",
      "[74]\ttest-merror:0.67901\ttest-mlogloss:1.20193\n",
      "[75]\ttest-merror:0.66667\ttest-mlogloss:1.20131\n",
      "[76]\ttest-merror:0.67901\ttest-mlogloss:1.20129\n",
      "[77]\ttest-merror:0.67901\ttest-mlogloss:1.20244\n",
      "[78]\ttest-merror:0.68519\ttest-mlogloss:1.20408\n",
      "[79]\ttest-merror:0.67901\ttest-mlogloss:1.20402\n",
      "[80]\ttest-merror:0.69136\ttest-mlogloss:1.20883\n",
      "[81]\ttest-merror:0.70988\ttest-mlogloss:1.21140\n",
      "[82]\ttest-merror:0.70370\ttest-mlogloss:1.21239\n",
      "[83]\ttest-merror:0.69136\ttest-mlogloss:1.21473\n",
      "[84]\ttest-merror:0.70988\ttest-mlogloss:1.21822\n",
      "[85]\ttest-merror:0.70988\ttest-mlogloss:1.22025\n",
      "[86]\ttest-merror:0.70370\ttest-mlogloss:1.22192\n",
      "[87]\ttest-merror:0.70988\ttest-mlogloss:1.22348\n",
      "[88]\ttest-merror:0.72222\ttest-mlogloss:1.22514\n",
      "[89]\ttest-merror:0.71605\ttest-mlogloss:1.22719\n",
      "[90]\ttest-merror:0.70370\ttest-mlogloss:1.22885\n",
      "[91]\ttest-merror:0.70370\ttest-mlogloss:1.23016\n",
      "[92]\ttest-merror:0.70370\ttest-mlogloss:1.23310\n",
      "[93]\ttest-merror:0.69753\ttest-mlogloss:1.23627\n",
      "[94]\ttest-merror:0.70370\ttest-mlogloss:1.23635\n",
      "[95]\ttest-merror:0.70988\ttest-mlogloss:1.23829\n",
      "[96]\ttest-merror:0.70988\ttest-mlogloss:1.24120\n",
      "[97]\ttest-merror:0.70988\ttest-mlogloss:1.24293\n",
      "[98]\ttest-merror:0.70988\ttest-mlogloss:1.24452\n",
      "[99]\ttest-merror:0.70988\ttest-mlogloss:1.24457\n",
      "Test Accuracy: 29.01%\n",
      "Classification Report:\n",
      "              precision    recall  f1-score   support\n",
      "\n",
      "           0       0.32      0.41      0.36        61\n",
      "           1       0.28      0.33      0.30        66\n",
      "           2       0.00      0.00      0.00        35\n",
      "\n",
      "    accuracy                           0.29       162\n",
      "   macro avg       0.20      0.25      0.22       162\n",
      "weighted avg       0.23      0.29      0.26       162\n",
      "\n"
     ]
    }
   ],
   "source": [
    "from xgb_model import XGBoostClassifier\n",
    "\n",
    "model = XGBoostClassifier()\n",
    "\n",
    "model.fit(X_train, y_train, X_test, y_test, label_mapping=True)"
   ]
  },
  {
   "cell_type": "code",
   "execution_count": null,
   "metadata": {},
   "outputs": [],
   "source": []
  }
 ],
 "metadata": {
  "kernelspec": {
   "display_name": "mne",
   "language": "python",
   "name": "python3"
  },
  "language_info": {
   "codemirror_mode": {
    "name": "ipython",
    "version": 3
   },
   "file_extension": ".py",
   "mimetype": "text/x-python",
   "name": "python",
   "nbconvert_exporter": "python",
   "pygments_lexer": "ipython3",
   "version": "3.12.7"
  }
 },
 "nbformat": 4,
 "nbformat_minor": 2
}
