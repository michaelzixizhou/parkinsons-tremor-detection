{
 "cells": [
  {
   "cell_type": "code",
   "execution_count": 2,
   "metadata": {},
   "outputs": [],
   "source": [
    "import sys\n",
    "sys.path.append('../')\n",
    "from preprocessors.eeg_preprocessor import EEGPreprocessor\n",
    "from preprocessors.acc_preprocessor import AccelerometerPreprocessor\n",
    "from preprocessors.eeg_loader import EEGDataLoader"
   ]
  },
  {
   "cell_type": "code",
   "execution_count": null,
   "metadata": {},
   "outputs": [],
   "source": [
    "ACC_DATA_PATH = \"data/accelerometer_data/820_1_accelerometer.pkl\"\n",
    "\n",
    "acc_loader = AccelerometerPreprocessor(ACC_DATA_PATH, 100)\n",
    "timestamps = acc_loader.preprocess_data()\n",
    "# acc_loader.plot_data()\n",
    "acc_loader.visualize_features()"
   ]
  },
  {
   "cell_type": "code",
   "execution_count": null,
   "metadata": {},
   "outputs": [],
   "source": [
    "# Run this cell if you want to preprocess eeg data\n",
    "EEG_DATA_PATH = \"data/eeg_data/820_1_PD_REST-epo.fif\"\n",
    "\n",
    "# SAVED_TIMESTAMP_PATH = \"processed/accelerometer_data/804_1_accelerometer_features.csv\"\n",
    "\n",
    "eeg_loader = EEGPreprocessor(EEG_DATA_PATH)\n",
    "eeg_loader.preprocess()\n",
    "\n",
    "\n",
    "eeg_loader.segment_with_labels(timestamps, save=True)  \n",
    "# eeg_loader.segment_with_labels(SAVED_TIMESTAMP_PATH, save=True)\n",
    "\n",
    "eeg_loader.plot_epochs()"
   ]
  },
  {
   "cell_type": "code",
   "execution_count": null,
   "metadata": {},
   "outputs": [],
   "source": [
    "# Run this cell if you already saved processed eeg data\n",
    "EPOCHS_PATH = \"../processed/eeg_data/913_1_PD_REST-epo.fif\"\n",
    "# FOLDER_PATH = \"processed/eeg_data\"\n",
    "\n",
    "# eeg = EEGDataLoader(dir_path=FOLDER_PATH)\n",
    "eeg = EEGDataLoader(file_path=EPOCHS_PATH)\n",
    "\n",
    "eeg.plot_events()\n",
    "eeg.display_info()\n",
    "eeg.epochs.plot_image(picks=['eeg'], scalings=dict(eeg=20e-5))"
   ]
  }
 ],
 "metadata": {
  "kernelspec": {
   "display_name": "mne",
   "language": "python",
   "name": "python3"
  },
  "language_info": {
   "codemirror_mode": {
    "name": "ipython",
    "version": 3
   },
   "file_extension": ".py",
   "mimetype": "text/x-python",
   "name": "python",
   "nbconvert_exporter": "python",
   "pygments_lexer": "ipython3",
   "version": "3.12.7"
  }
 },
 "nbformat": 4,
 "nbformat_minor": 2
}
