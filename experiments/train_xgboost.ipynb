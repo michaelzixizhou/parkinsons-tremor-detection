{
 "cells": [
  {
   "cell_type": "markdown",
   "metadata": {},
   "source": [
    "### Prerequisite\n",
    "\n",
    "You should have already ran `preprocess.ipynb` on the raw data in order to generate labelled, cleaned, and segmented data (epochs) in the `processed` directory. The following section will load the preprocessed data and extract features and save them as `eeg_features.npy`."
   ]
  },
  {
   "cell_type": "code",
   "execution_count": 12,
   "metadata": {},
   "outputs": [],
   "source": [
    "# If you are running as a notebook add the path\n",
    "import sys\n",
    "sys.path.append('../')\n",
    "\n",
    "from preprocessors.eeg_loader import EEGDataLoader\n",
    "import numpy as np"
   ]
  },
  {
   "cell_type": "markdown",
   "metadata": {},
   "source": [
    "First, load the processed data."
   ]
  },
  {
   "cell_type": "code",
   "execution_count": null,
   "metadata": {},
   "outputs": [],
   "source": [
    "%%capture\n",
    "FOLDER_PATH = \"../processed/eeg_data\"\n",
    "eeg = EEGDataLoader(dir_path=FOLDER_PATH)"
   ]
  },
  {
   "cell_type": "markdown",
   "metadata": {},
   "source": [
    "> [WARNING]\n",
    "> This script will use **a lot of memory** in order to extract features since the dataset is quite large. Make sure you have enough memory available.\n",
    "\n",
    "Now we extract the features for each epoch and save them into a numpy array file."
   ]
  },
  {
   "cell_type": "code",
   "execution_count": 4,
   "metadata": {},
   "outputs": [],
   "source": [
    "%%capture\n",
    "eeg.extract_features()"
   ]
  },
  {
   "cell_type": "markdown",
   "metadata": {},
   "source": [
    "### Training\n",
    "\n",
    "This section will load extracted features and you can then take these feautres to train a model of your choice. Here, an example with XGBoost is shown."
   ]
  },
  {
   "cell_type": "code",
   "execution_count": 6,
   "metadata": {},
   "outputs": [],
   "source": [
    "from models.xgb_model import XGBoostClassifier"
   ]
  },
  {
   "cell_type": "code",
   "execution_count": null,
   "metadata": {},
   "outputs": [],
   "source": [
    "# If you saved the features before load directly\n",
    "features = np.load(\"eeg_features.npy\")\n",
    "eeg = EEGDataLoader(dir_path=\"processed/eeg_data\")\n",
    "eeg.features = features"
   ]
  },
  {
   "cell_type": "markdown",
   "metadata": {},
   "source": [
    "Perform some basic splitting and verification."
   ]
  },
  {
   "cell_type": "code",
   "execution_count": null,
   "metadata": {},
   "outputs": [],
   "source": [
    "X_train, X_test, y_train, y_test = eeg.train_test_split()\n",
    "print(X_train.shape, X_test.shape, y_train.shape, y_test.shape)\n",
    "\n",
    "# Remove NaN samples from X_train and y_train\n",
    "mask_train = ~np.isnan(X_train).any(axis=(1, 2))\n",
    "X_train_clean = X_train[mask_train]\n",
    "y_train_clean = y_train[mask_train]\n",
    "\n",
    "# Remove NaN samples from X_test and y_test\n",
    "mask_test = ~np.isnan(X_test).any(axis=(1, 2))\n",
    "X_test_clean = X_test[mask_test]\n",
    "y_test_clean = y_test[mask_test]\n",
    "\n",
    "print(f\"Cleaned X_train shape: {X_train_clean.shape}\")\n",
    "print(f\"Cleaned y_train shape: {y_train_clean.shape}\")\n",
    "print(f\"Cleaned X_test shape: {X_test_clean.shape}\")\n",
    "print(f\"Cleaned y_test shape: {y_test_clean.shape}\")"
   ]
  },
  {
   "cell_type": "code",
   "execution_count": null,
   "metadata": {},
   "outputs": [],
   "source": [
    "xgb = XGBoostClassifier()\n",
    "# Train, test, and save the model\n",
    "xgb.fit(X_train_clean, y_train_clean, X_test_clean, y_test_clean)"
   ]
  }
 ],
 "metadata": {
  "kernelspec": {
   "display_name": "mne",
   "language": "python",
   "name": "python3"
  },
  "language_info": {
   "codemirror_mode": {
    "name": "ipython",
    "version": 3
   },
   "file_extension": ".py",
   "mimetype": "text/x-python",
   "name": "python",
   "nbconvert_exporter": "python",
   "pygments_lexer": "ipython3",
   "version": "3.12.7"
  }
 },
 "nbformat": 4,
 "nbformat_minor": 2
}
