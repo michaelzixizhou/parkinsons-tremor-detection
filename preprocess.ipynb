{
 "cells": [
  {
   "cell_type": "code",
   "execution_count": 1,
   "metadata": {},
   "outputs": [],
   "source": [
    "from eeg_preprocessor import EEGPreprocessor\n",
    "from acc_preprocessor import AccelerometerPreprocessor\n",
    "from eeg_loader import EEGDataLoader"
   ]
  },
  {
   "cell_type": "code",
   "execution_count": null,
   "metadata": {},
   "outputs": [],
   "source": [
    "# Run this cell if you want to preprocess acc data\n",
    "ACC_DATA_PATH = \"data/accelerometer_data/801_1_accelerometer.pkl\"\n",
    "\n",
    "accelerometer_loader = AccelerometerPreprocessor(ACC_DATA_PATH, frequency=100)\n",
    "timestamps = accelerometer_loader.preprocess_data()\n",
    "accelerometer_loader.save_features()\n",
    "accelerometer_loader.visualize_features()"
   ]
  },
  {
   "cell_type": "code",
   "execution_count": null,
   "metadata": {},
   "outputs": [],
   "source": [
    "# Run this cell if you want to preprocess eeg data\n",
    "EEG_DATA_PATH = \"data/eeg_data/804_1_PD_REST-epo.fif\"\n",
    "\n",
    "# SAVED_TIMESTAMP_PATH = \"processed/accelerometer_data/804_1_accelerometer_features.csv\"\n",
    "\n",
    "eeg_loader = EEGPreprocessor(EEG_DATA_PATH)\n",
    "eeg_loader.preprocess()\n",
    "\n",
    "eeg_loader.segment_with_labels(timestamps, save=True)  \n",
    "# eeg_loader.segment_with_labels(SAVED_TIMESTAMP_PATH, save=True)\n",
    "\n",
    "eeg_loader.plot_epochs()"
   ]
  },
  {
   "cell_type": "code",
   "execution_count": null,
   "metadata": {},
   "outputs": [],
   "source": [
    "# Run this cell if you already saved processed eeg data\n",
    "EPOCHS_PATH = \"processed/eeg_data/804_1_PD_REST-epo.fif\"\n",
    "\n",
    "eeg = EEGDataLoader(EPOCHS_PATH)\n",
    "eeg.plot_events()\n",
    "eeg.display_info()\n",
    "eeg.get_labels()\n",
    "eeg.epochs.plot_image(picks=['eeg'], scalings=dict(eeg=20e-5))"
   ]
  }
 ],
 "metadata": {
  "kernelspec": {
   "display_name": "mne",
   "language": "python",
   "name": "python3"
  },
  "language_info": {
   "codemirror_mode": {
    "name": "ipython",
    "version": 3
   },
   "file_extension": ".py",
   "mimetype": "text/x-python",
   "name": "python",
   "nbconvert_exporter": "python",
   "pygments_lexer": "ipython3",
   "version": "3.12.7"
  }
 },
 "nbformat": 4,
 "nbformat_minor": 2
}
